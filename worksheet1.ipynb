{
 "cells": [
  {
   "cell_type": "code",
   "execution_count": 2,
   "id": "9a40f419",
   "metadata": {},
   "outputs": [
    {
     "name": "stdout",
     "output_type": "stream",
     "text": [
      "The factorial of  7 is 5040\n"
     ]
    }
   ],
   "source": [
    "def factorial(x):\n",
    "    if x==1:\n",
    "        return 1\n",
    "    else:\n",
    "        return (x * factorial(x-1))\n",
    "num = 7\n",
    "result = factorial(num)\n",
    "print(\"The factorial of \",num,\"is\",result )"
   ]
  },
  {
   "cell_type": "markdown",
   "id": "b1b99c1d",
   "metadata": {},
   "source": [
    "# find number is composite or prime"
   ]
  },
  {
   "cell_type": "code",
   "execution_count": null,
   "id": "a96fd3db",
   "metadata": {},
   "outputs": [],
   "source": [
    "def is_prime(number):\n",
    "    if number <= 1:\n",
    "        return False\n",
    "    for i in range(2, int(number**0.5)+ 1):\n",
    "        if number % i ==0:\n",
    "            return false\n",
    "        return True\n",
    "#Test the is_prime function\n",
    "number = int(input(\"Enter a number: \"))\n",
    "if is_prime(number):\n",
    "    print(number, \"is a prime number.\")\n",
    "else:\n",
    "    print(number, \"is a composite number.\")\n",
    "    "
   ]
  },
  {
   "cell_type": "markdown",
   "id": "24fd106a",
   "metadata": {},
   "source": [
    "# python program to check whether a string  is palindrome or not"
   ]
  },
  {
   "cell_type": "code",
   "execution_count": null,
   "id": "b396af8e",
   "metadata": {},
   "outputs": [],
   "source": [
    "def is_palindrome(string):\n",
    "    string = string.lower()\n",
    "    reversed_string = string[::-1]\n",
    "    return string == reversed_string\n",
    "#Test the is_palindrome function\n",
    "string = input(\"Enter a string: \")\n",
    "if is_palindrome(string):\n",
    "    print(\"the string is a palindrome.\")\n",
    "else:\n",
    "    print(\"the string is not a palindrome.\")\n",
    "    \n"
   ]
  },
  {
   "cell_type": "markdown",
   "id": "345e87af",
   "metadata": {},
   "source": [
    "#python program to get the right angled traingle from given two sides"
   ]
  },
  {
   "cell_type": "code",
   "execution_count": null,
   "id": "1b3367a3",
   "metadata": {},
   "outputs": [],
   "source": [
    "import math \n",
    "\n",
    "def calculate_third _side(side1, side2):\n",
    "    third_side =math.sqrt(side1**2 + side2**2)\n",
    "    return third_side\n",
    "#test the calculate third side function\n",
    "side1 = float(input(\"Entee the length of side 1: \"))\n",
    "side2 = float(input(\"enter the length of side 2: \"))\n",
    "third_side = calculate_third_side(side1, side2)\n",
    "print(\"the lenght of third side is\", third_side)"
   ]
  },
  {
   "cell_type": "markdown",
   "id": "8fd3b6ae",
   "metadata": {},
   "source": [
    "# frequency of each of the character present in given string"
   ]
  },
  {
   "cell_type": "markdown",
   "id": "8e82ad04",
   "metadata": {},
   "source": []
  },
  {
   "cell_type": "code",
   "execution_count": null,
   "id": "26b02f6d",
   "metadata": {},
   "outputs": [],
   "source": [
    "def count_character_frequency(string):\n",
    "    frequency = {}\n",
    "    for char in string:\n",
    "        if char in frequency:\n",
    "            frequency[char] +=1\n",
    "            else:\n",
    "                frequency[char] =1\n",
    "                return frequency\n",
    "#Test the count_character_frequency function\n",
    "string = input(\"Enter a string: \")\n",
    "frequency = count_character_frequency(string)\n",
    "print(\"character frequencies: \")\n",
    "for char, count in frequency.items():\n",
    "    print(char, \":\",count)"
   ]
  },
  {
   "cell_type": "code",
   "execution_count": null,
   "id": "cf1b960a",
   "metadata": {},
   "outputs": [],
   "source": []
  },
  {
   "cell_type": "code",
   "execution_count": null,
   "id": "90334546",
   "metadata": {},
   "outputs": [],
   "source": []
  }
 ],
 "metadata": {
  "kernelspec": {
   "display_name": "Python 3 (ipykernel)",
   "language": "python",
   "name": "python3"
  },
  "language_info": {
   "codemirror_mode": {
    "name": "ipython",
    "version": 3
   },
   "file_extension": ".py",
   "mimetype": "text/x-python",
   "name": "python",
   "nbconvert_exporter": "python",
   "pygments_lexer": "ipython3",
   "version": "3.9.13"
  }
 },
 "nbformat": 4,
 "nbformat_minor": 5
}
